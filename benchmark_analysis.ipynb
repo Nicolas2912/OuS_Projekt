{
 "cells": [
  {
   "cell_type": "code",
   "execution_count": 1,
   "id": "f50540c4",
   "metadata": {},
   "outputs": [],
   "source": [
    "import pandas as pd\n",
    "import numpy as np\n",
    "import matplotlib.pyplot as plt\n",
    "from scipy.stats import linregress"
   ]
  },
  {
   "cell_type": "code",
   "execution_count": 4,
   "id": "600cd1ab",
   "metadata": {},
   "outputs": [
    {
     "name": "stdout",
     "output_type": "stream",
     "text": [
      "C:\\Users\\Anwender\\Desktop\\Nicolas\\Dokumente\\FH Bielefeld\\Optimierung und Simulation\\2. Semester\\OuS_Projekt\n"
     ]
    }
   ],
   "source": [
    "import os\n",
    "print(os.getcwd())"
   ]
  },
  {
   "cell_type": "code",
   "execution_count": 17,
   "id": "64edd4ab",
   "metadata": {},
   "outputs": [],
   "source": [
    "file_nse1 = \"benchmark_nse1.csv\"\n",
    "file_nse2 = \"benchmark_nse2.csv\"\n",
    "file_nse3 = \"benchmark_nse3.csv\"\n",
    "df_nse1 = pd.read_csv(file_nse1, sep=\",\")\n",
    "df_nse2 = pd.read_csv(file_nse2, sep=\",\")\n",
    "df_nse3 = pd.read_csv(file_nse3, sep=\",\")"
   ]
  },
  {
   "cell_type": "code",
   "execution_count": 7,
   "id": "4c17c13c",
   "metadata": {},
   "outputs": [
    {
     "data": {
      "text/html": [
       "<div>\n",
       "<style scoped>\n",
       "    .dataframe tbody tr th:only-of-type {\n",
       "        vertical-align: middle;\n",
       "    }\n",
       "\n",
       "    .dataframe tbody tr th {\n",
       "        vertical-align: top;\n",
       "    }\n",
       "\n",
       "    .dataframe thead th {\n",
       "        text-align: right;\n",
       "    }\n",
       "</style>\n",
       "<table border=\"1\" class=\"dataframe\">\n",
       "  <thead>\n",
       "    <tr style=\"text-align: right;\">\n",
       "      <th></th>\n",
       "      <th>Epochs</th>\n",
       "      <th>Time</th>\n",
       "      <th>Best Action</th>\n",
       "      <th>Best Residuum</th>\n",
       "    </tr>\n",
       "  </thead>\n",
       "  <tbody>\n",
       "    <tr>\n",
       "      <th>0</th>\n",
       "      <td>1000.0</td>\n",
       "      <td>3.794</td>\n",
       "      <td>[0.00037948]</td>\n",
       "      <td>[0.00075889]</td>\n",
       "    </tr>\n",
       "    <tr>\n",
       "      <th>1</th>\n",
       "      <td>5000.0</td>\n",
       "      <td>15.402</td>\n",
       "      <td>[2.45503616e-05]</td>\n",
       "      <td>[4.91004217e-05]</td>\n",
       "    </tr>\n",
       "    <tr>\n",
       "      <th>2</th>\n",
       "      <td>10000.0</td>\n",
       "      <td>39.177</td>\n",
       "      <td>[-3.29602044e-05]</td>\n",
       "      <td>[6.59209519e-05]</td>\n",
       "    </tr>\n",
       "    <tr>\n",
       "      <th>3</th>\n",
       "      <td>50000.0</td>\n",
       "      <td>548.275</td>\n",
       "      <td>[0.00031125]</td>\n",
       "      <td>[0.00062244]</td>\n",
       "    </tr>\n",
       "  </tbody>\n",
       "</table>\n",
       "</div>"
      ],
      "text/plain": [
       "    Epochs     Time        Best Action     Best Residuum\n",
       "0   1000.0    3.794       [0.00037948]      [0.00075889]\n",
       "1   5000.0   15.402   [2.45503616e-05]  [4.91004217e-05]\n",
       "2  10000.0   39.177  [-3.29602044e-05]  [6.59209519e-05]\n",
       "3  50000.0  548.275       [0.00031125]      [0.00062244]"
      ]
     },
     "execution_count": 7,
     "metadata": {},
     "output_type": "execute_result"
    }
   ],
   "source": [
    "df_nse1"
   ]
  },
  {
   "cell_type": "code",
   "execution_count": 8,
   "id": "785d92dc",
   "metadata": {},
   "outputs": [
    {
     "data": {
      "text/html": [
       "<div>\n",
       "<style scoped>\n",
       "    .dataframe tbody tr th:only-of-type {\n",
       "        vertical-align: middle;\n",
       "    }\n",
       "\n",
       "    .dataframe tbody tr th {\n",
       "        vertical-align: top;\n",
       "    }\n",
       "\n",
       "    .dataframe thead th {\n",
       "        text-align: right;\n",
       "    }\n",
       "</style>\n",
       "<table border=\"1\" class=\"dataframe\">\n",
       "  <thead>\n",
       "    <tr style=\"text-align: right;\">\n",
       "      <th></th>\n",
       "      <th>Epochs</th>\n",
       "      <th>Time</th>\n",
       "      <th>Best Action</th>\n",
       "      <th>Best Residuum</th>\n",
       "    </tr>\n",
       "  </thead>\n",
       "  <tbody>\n",
       "    <tr>\n",
       "      <th>0</th>\n",
       "      <td>1000.0</td>\n",
       "      <td>3.794</td>\n",
       "      <td>[0.00037948]</td>\n",
       "      <td>0.000759</td>\n",
       "    </tr>\n",
       "    <tr>\n",
       "      <th>1</th>\n",
       "      <td>5000.0</td>\n",
       "      <td>15.402</td>\n",
       "      <td>[2.45503616e-05]</td>\n",
       "      <td>0.000049</td>\n",
       "    </tr>\n",
       "    <tr>\n",
       "      <th>2</th>\n",
       "      <td>10000.0</td>\n",
       "      <td>39.177</td>\n",
       "      <td>[-3.29602044e-05]</td>\n",
       "      <td>0.000066</td>\n",
       "    </tr>\n",
       "    <tr>\n",
       "      <th>3</th>\n",
       "      <td>50000.0</td>\n",
       "      <td>548.275</td>\n",
       "      <td>[0.00031125]</td>\n",
       "      <td>0.000622</td>\n",
       "    </tr>\n",
       "  </tbody>\n",
       "</table>\n",
       "</div>"
      ],
      "text/plain": [
       "    Epochs     Time        Best Action  Best Residuum\n",
       "0   1000.0    3.794       [0.00037948]       0.000759\n",
       "1   5000.0   15.402   [2.45503616e-05]       0.000049\n",
       "2  10000.0   39.177  [-3.29602044e-05]       0.000066\n",
       "3  50000.0  548.275       [0.00031125]       0.000622"
      ]
     },
     "execution_count": 8,
     "metadata": {},
     "output_type": "execute_result"
    }
   ],
   "source": [
    "# Entferne die Klammern und konvertiere den Wert in einen float\n",
    "# Klammern entfernen und versuchen, die Werte in float umzuwandeln\n",
    "df_nse1['Best Residuum'] = df_nse1['Best Residuum'].str.replace('[', '').str.replace(']', '').astype(float)\n",
    "df_nse1"
   ]
  },
  {
   "cell_type": "code",
   "execution_count": 18,
   "id": "e9900f73",
   "metadata": {},
   "outputs": [
    {
     "data": {
      "text/html": [
       "<div>\n",
       "<style scoped>\n",
       "    .dataframe tbody tr th:only-of-type {\n",
       "        vertical-align: middle;\n",
       "    }\n",
       "\n",
       "    .dataframe tbody tr th {\n",
       "        vertical-align: top;\n",
       "    }\n",
       "\n",
       "    .dataframe thead th {\n",
       "        text-align: right;\n",
       "    }\n",
       "</style>\n",
       "<table border=\"1\" class=\"dataframe\">\n",
       "  <thead>\n",
       "    <tr style=\"text-align: right;\">\n",
       "      <th></th>\n",
       "      <th>Epochs</th>\n",
       "      <th>Time</th>\n",
       "      <th>Best Action</th>\n",
       "      <th>Best Residuum</th>\n",
       "      <th>Best Action global optimum</th>\n",
       "      <th>Best Residuum global optimum</th>\n",
       "    </tr>\n",
       "  </thead>\n",
       "  <tbody>\n",
       "    <tr>\n",
       "      <th>0</th>\n",
       "      <td>1000.0</td>\n",
       "      <td>3.305</td>\n",
       "      <td>[0.99306941 0.97132391]</td>\n",
       "      <td>0.148791</td>\n",
       "      <td>[1.02104425 1.00144994]</td>\n",
       "      <td>0.021094</td>\n",
       "    </tr>\n",
       "    <tr>\n",
       "      <th>1</th>\n",
       "      <td>5000.0</td>\n",
       "      <td>9.898</td>\n",
       "      <td>[1.061149   1.14505315]</td>\n",
       "      <td>0.199749</td>\n",
       "      <td>[0.95667106 1.02900386]</td>\n",
       "      <td>0.052140</td>\n",
       "    </tr>\n",
       "    <tr>\n",
       "      <th>2</th>\n",
       "      <td>10000.0</td>\n",
       "      <td>15.447</td>\n",
       "      <td>[0.91975319 0.83422208]</td>\n",
       "      <td>0.142072</td>\n",
       "      <td>[0.98611528 1.01858294]</td>\n",
       "      <td>0.023197</td>\n",
       "    </tr>\n",
       "    <tr>\n",
       "      <th>3</th>\n",
       "      <td>50000.0</td>\n",
       "      <td>107.568</td>\n",
       "      <td>[0.89070129 0.79465717]</td>\n",
       "      <td>0.110079</td>\n",
       "      <td>[1.02101529 1.02270281]</td>\n",
       "      <td>0.030936</td>\n",
       "    </tr>\n",
       "  </tbody>\n",
       "</table>\n",
       "</div>"
      ],
      "text/plain": [
       "    Epochs     Time              Best Action  Best Residuum  \\\n",
       "0   1000.0    3.305  [0.99306941 0.97132391]       0.148791   \n",
       "1   5000.0    9.898  [1.061149   1.14505315]       0.199749   \n",
       "2  10000.0   15.447  [0.91975319 0.83422208]       0.142072   \n",
       "3  50000.0  107.568  [0.89070129 0.79465717]       0.110079   \n",
       "\n",
       "  Best Action global optimum  Best Residuum global optimum  \n",
       "0    [1.02104425 1.00144994]                      0.021094  \n",
       "1    [0.95667106 1.02900386]                      0.052140  \n",
       "2    [0.98611528 1.01858294]                      0.023197  \n",
       "3    [1.02101529 1.02270281]                      0.030936  "
      ]
     },
     "execution_count": 18,
     "metadata": {},
     "output_type": "execute_result"
    }
   ],
   "source": [
    "df_nse2"
   ]
  },
  {
   "cell_type": "code",
   "execution_count": 10,
   "id": "9b3811b9",
   "metadata": {},
   "outputs": [
    {
     "data": {
      "text/html": [
       "<div>\n",
       "<style scoped>\n",
       "    .dataframe tbody tr th:only-of-type {\n",
       "        vertical-align: middle;\n",
       "    }\n",
       "\n",
       "    .dataframe tbody tr th {\n",
       "        vertical-align: top;\n",
       "    }\n",
       "\n",
       "    .dataframe thead th {\n",
       "        text-align: right;\n",
       "    }\n",
       "</style>\n",
       "<table border=\"1\" class=\"dataframe\">\n",
       "  <thead>\n",
       "    <tr style=\"text-align: right;\">\n",
       "      <th></th>\n",
       "      <th>Epochs</th>\n",
       "      <th>Time</th>\n",
       "      <th>Best Action</th>\n",
       "      <th>Best Residuum</th>\n",
       "      <th>Best Action global optimum</th>\n",
       "      <th>Best Residuum global optimum</th>\n",
       "    </tr>\n",
       "  </thead>\n",
       "  <tbody>\n",
       "    <tr>\n",
       "      <th>0</th>\n",
       "      <td>1000.0</td>\n",
       "      <td>3.052</td>\n",
       "      <td>[ 0.20851724 -0.70492524 -0.95495832 -1.074920...</td>\n",
       "      <td>0.599192</td>\n",
       "      <td>[-0.42215803  0.47344273  1.16680813  0.444447...</td>\n",
       "      <td>1.236441</td>\n",
       "    </tr>\n",
       "    <tr>\n",
       "      <th>1</th>\n",
       "      <td>5000.0</td>\n",
       "      <td>9.145</td>\n",
       "      <td>[ 1.21705711e+00 -9.09651875e-01 -3.20530623e-...</td>\n",
       "      <td>0.714767</td>\n",
       "      <td>[-1.28149045  1.05576217  1.03962255  0.902828...</td>\n",
       "      <td>1.550485</td>\n",
       "    </tr>\n",
       "    <tr>\n",
       "      <th>2</th>\n",
       "      <td>10000.0</td>\n",
       "      <td>16.307</td>\n",
       "      <td>[ 0.30322015  0.3009665  -0.45381281  0.662307...</td>\n",
       "      <td>0.716097</td>\n",
       "      <td>[-1.2317704  -0.01960332  0.61424005  0.508484...</td>\n",
       "      <td>1.122834</td>\n",
       "    </tr>\n",
       "    <tr>\n",
       "      <th>3</th>\n",
       "      <td>50000.0</td>\n",
       "      <td>97.955</td>\n",
       "      <td>[ 0.04569374  0.46469676 -1.27218056  0.041097...</td>\n",
       "      <td>0.599234</td>\n",
       "      <td>[-1.02301824  0.54737759  0.97858799  0.424556...</td>\n",
       "      <td>1.373325</td>\n",
       "    </tr>\n",
       "  </tbody>\n",
       "</table>\n",
       "</div>"
      ],
      "text/plain": [
       "    Epochs    Time                                        Best Action  \\\n",
       "0   1000.0   3.052  [ 0.20851724 -0.70492524 -0.95495832 -1.074920...   \n",
       "1   5000.0   9.145  [ 1.21705711e+00 -9.09651875e-01 -3.20530623e-...   \n",
       "2  10000.0  16.307  [ 0.30322015  0.3009665  -0.45381281  0.662307...   \n",
       "3  50000.0  97.955  [ 0.04569374  0.46469676 -1.27218056  0.041097...   \n",
       "\n",
       "   Best Residuum                         Best Action global optimum  \\\n",
       "0       0.599192  [-0.42215803  0.47344273  1.16680813  0.444447...   \n",
       "1       0.714767  [-1.28149045  1.05576217  1.03962255  0.902828...   \n",
       "2       0.716097  [-1.2317704  -0.01960332  0.61424005  0.508484...   \n",
       "3       0.599234  [-1.02301824  0.54737759  0.97858799  0.424556...   \n",
       "\n",
       "   Best Residuum global optimum  \n",
       "0                      1.236441  \n",
       "1                      1.550485  \n",
       "2                      1.122834  \n",
       "3                      1.373325  "
      ]
     },
     "execution_count": 10,
     "metadata": {},
     "output_type": "execute_result"
    }
   ],
   "source": [
    "df_nse3"
   ]
  },
  {
   "cell_type": "code",
   "execution_count": 20,
   "id": "0bce2a73",
   "metadata": {},
   "outputs": [
    {
     "data": {
      "image/png": "[encoded data removed]",
      "text/plain": [
       "<Figure size 700x500 with 1 Axes>"
      ]
     },
     "metadata": {},
     "output_type": "display_data"
    }
   ],
   "source": [
    "# Daten aus dem ersten DataFrame extrahieren\n",
    "time_bestres_nse1 = df_nse1[[\"Time\", \"Best Residuum\"]]\n",
    "time_nse1 = time_bestres_nse1[\"Time\"]\n",
    "best_res_nse1 = time_bestres_nse1[\"Best Residuum\"]\n",
    "\n",
    "# Daten aus dem zweiten DataFrame extrahieren\n",
    "time_bestres_nse2 = df_nse2[[\"Time\", \"Best Residuum\"]]\n",
    "time_nse2 = time_bestres_nse2[\"Time\"]\n",
    "best_res_nse2 = time_bestres_nse2[\"Best Residuum\"]\n",
    "\n",
    "# Daten aus dem dritten DataFrame extrahieren\n",
    "time_bestres_nse3 = df_nse3[[\"Time\", \"Best Residuum\"]]\n",
    "time_nse3 = time_bestres_nse3[\"Time\"]\n",
    "best_res_nse3 = time_bestres_nse3[\"Best Residuum\"]\n",
    "\n",
    "# Größe festlegen\n",
    "plt.figure(figsize=(7,5))\n",
    "\n",
    "# Plot erstellen\n",
    "plt.plot(time_nse1, best_res_nse1, \"o\", label=\"NSE 1\", linestyle=\"--\")\n",
    "plt.plot(time_nse2, best_res_nse2, \"s\", label=\"NSE 2\", linestyle=\"--\")\n",
    "plt.plot(time_nse3, best_res_nse3, \"^\", label=\"NSE 3\", linestyle=\"--\")\n",
    "\n",
    "# Plot beschriften und anzeigen\n",
    "plt.xlabel(\"Time (in s)\")\n",
    "plt.ylabel(\"Best Residuum\")\n",
    "plt.grid()\n",
    "plt.yscale(\"log\")\n",
    "plt.legend()\n",
    "plt.title(\"Evolution of Best Residuum Over Time for Different NSEs\")\n",
    "plt.show()"
   ]
  },
  {
   "cell_type": "code",
   "execution_count": 12,
   "id": "7c9f5f97",
   "metadata": {},
   "outputs": [],
   "source": [
    "def linear_relationship(dataframe):\n",
    "    \"\"\"\n",
    "    Berechnet den linearen Zusammenhang zwischen Zeit und Epochen für einen DataFrame.\n",
    "\n",
    "    Args:\n",
    "    dataframe (pd.DataFrame): Ein DataFrame mit den Spalten 'Time' und 'Epochs'.\n",
    "\n",
    "    Returns:\n",
    "    dict: Ein Dictionary mit den Ergebnissen des linearen Zusammenhangs.\n",
    "          Enthält die Slope, Intercept, Korrelationskoeffizient (r), P-Wert und Standardfehler.\n",
    "    \"\"\"\n",
    "\n",
    "    results = {}\n",
    "\n",
    "    try:\n",
    "        # Berechne den linearen Zusammenhang\n",
    "        slope, intercept, r_value, p_value, std_err = linregress(dataframe[\"Time\"], dataframe[\"Epochs\"])\n",
    "\n",
    "        # Speichere die Ergebnisse in einem Dictionary\n",
    "        results[\"Slope\"] = slope\n",
    "        results[\"Intercept\"] = intercept\n",
    "        results[\"Korrelationskoeffizient (r)\"] = r_value\n",
    "        results[\"P-Wert\"] = p_value\n",
    "        results[\"Standardfehler\"] = std_err\n",
    "\n",
    "    except Exception as e:\n",
    "        # Fangen Sie alle Fehler ab und geben Sie eine Fehlermeldung aus\n",
    "        results[\"Error\"] = str(e)\n",
    "\n",
    "    return results"
   ]
  },
  {
   "cell_type": "code",
   "execution_count": 13,
   "id": "ba3d2a70",
   "metadata": {},
   "outputs": [
    {
     "name": "stdout",
     "output_type": "stream",
     "text": [
      "Ergebnisse für DataFrame df_nse1:\n",
      "{'Slope': 84.97044105909531, 'Intercept': 3613.2129680954877, 'Korrelationskoeffizient (r)': 0.9941223838379178, 'P-Wert': 0.005877616162082155, 'Standardfehler': 6.543190082385486}\n",
      "------------------------------------------------------------------------------------------------------------------------------------------------------\n",
      "Ergebnisse für DataFrame df_nse2:\n",
      "{'Slope': 453.75281124205907, 'Intercept': 611.2781233452497, 'Korrelationskoeffizient (r)': 0.9992402086583827, 'P-Wert': 0.0007597913416172996, 'Standardfehler': 12.514516880438658}\n",
      "------------------------------------------------------------------------------------------------------------------------------------------------------\n",
      "Ergebnisse für DataFrame df_nse3:\n",
      "{'Slope': 507.55284706101645, 'Intercept': 453.84362837773006, 'Korrelationskoeffizient (r)': 0.9991356655512559, 'P-Wert': 0.0008643344487441197, 'Standardfehler': 14.931514257422979}\n"
     ]
    }
   ],
   "source": [
    "# Beispielaufruf für DataFrame df_nse1\n",
    "results_nse1 = linear_relationship(df_nse1)\n",
    "print(\"Ergebnisse für DataFrame df_nse1:\")\n",
    "print(results_nse1)\n",
    "print(\"---\"*50)\n",
    "\n",
    "# Beispielaufruf für DataFrame df_nse2\n",
    "results_nse2 = linear_relationship(df_nse2)\n",
    "print(\"Ergebnisse für DataFrame df_nse2:\")\n",
    "print(results_nse2)\n",
    "print(\"---\"*50)\n",
    "\n",
    "# Beispielaufruf für DataFrame df_nse1\n",
    "results_nse3 = linear_relationship(df_nse3)\n",
    "print(\"Ergebnisse für DataFrame df_nse3:\")\n",
    "print(results_nse3)"
   ]
  },
  {
   "cell_type": "code",
   "execution_count": 14,
   "id": "128c7639",
   "metadata": {},
   "outputs": [
    {
     "data": {
      "image/png": "[encoded data removed]",
      "text/plain": [
       "<Figure size 700x500 with 1 Axes>"
      ]
     },
     "metadata": {},
     "output_type": "display_data"
    }
   ],
   "source": [
    "# plot best residuum global optimum\n",
    "best_res_opt_nse2 = df_nse2[[\"Best Residuum global optimum\"]]\n",
    "best_res_opt_nse3 = df_nse3[[\"Best Residuum global optimum\"]]\n",
    "\n",
    "# Größe festlegen\n",
    "plt.figure(figsize=(7,5))\n",
    "\n",
    "#plt.plot(time_nse1, best_res_nse1, \"o\", label=\"NSE 1\", linestyle=\"--\")\n",
    "plt.plot(time_nse2, best_res_opt_nse2, \"s\", label=\"NSE 2\", linestyle=\"--\", color=\"darkorange\")\n",
    "plt.plot(time_nse3, best_res_opt_nse3, \"^\", label=\"NSE 3\", linestyle=\"--\", color=\"green\")\n",
    "\n",
    "# Plot beschriften und anzeigen\n",
    "plt.xlabel(\"Time (in s)\")\n",
    "plt.ylabel(\"Best Residuum (global optimum)\")\n",
    "plt.grid()\n",
    "plt.yscale(\"log\")\n",
    "plt.legend()\n",
    "plt.title(\"Evolution of Best Residuum to Global Optimum Over Time for NSE 2 and NSE 3\")\n",
    "plt.show()"
   ]
  },
  {
   "cell_type": "code",
   "execution_count": 19,
   "id": "2ed8eecd",
   "metadata": {},
   "outputs": [
    {
     "ename": "FileNotFoundError",
     "evalue": "[Errno 2] No such file or directory: 'benchmark_newton_results_nse1.csv'",
     "output_type": "error",
     "traceback": [
      "\u001b[1;31m---------------------------------------------------------------------------\u001b[0m",
      "\u001b[1;31mFileNotFoundError\u001b[0m                         Traceback (most recent call last)",
      "Cell \u001b[1;32mIn[19], line 3\u001b[0m\n\u001b[0;32m      1\u001b[0m file_newton_nse1 \u001b[38;5;241m=\u001b[39m \u001b[38;5;124m\"\u001b[39m\u001b[38;5;124mbenchmark_newton_results_nse1.csv\u001b[39m\u001b[38;5;124m\"\u001b[39m\n\u001b[0;32m      2\u001b[0m file_newton_nse2 \u001b[38;5;241m=\u001b[39m \u001b[38;5;124m\"\u001b[39m\u001b[38;5;124mbenchmark_newton_results_nse2.csv\u001b[39m\u001b[38;5;124m\"\u001b[39m\n\u001b[1;32m----> 3\u001b[0m df_newton_nse1 \u001b[38;5;241m=\u001b[39m \u001b[43mpd\u001b[49m\u001b[38;5;241;43m.\u001b[39;49m\u001b[43mread_csv\u001b[49m\u001b[43m(\u001b[49m\u001b[43mfile_newton_nse1\u001b[49m\u001b[43m,\u001b[49m\u001b[43m \u001b[49m\u001b[43msep\u001b[49m\u001b[38;5;241;43m=\u001b[39;49m\u001b[38;5;124;43m\"\u001b[39;49m\u001b[38;5;124;43m,\u001b[39;49m\u001b[38;5;124;43m\"\u001b[39;49m\u001b[43m)\u001b[49m\n\u001b[0;32m      4\u001b[0m df_newton_nse2 \u001b[38;5;241m=\u001b[39m pd\u001b[38;5;241m.\u001b[39mread_csv(file_newton_nse2, sep\u001b[38;5;241m=\u001b[39m\u001b[38;5;124m\"\u001b[39m\u001b[38;5;124m,\u001b[39m\u001b[38;5;124m\"\u001b[39m)\n\u001b[0;32m      6\u001b[0m desired_precision \u001b[38;5;241m=\u001b[39m \u001b[38;5;241m30\u001b[39m\n",
      "File \u001b[1;32m~\\miniconda3\\lib\\site-packages\\pandas\\io\\parsers\\readers.py:912\u001b[0m, in \u001b[0;36mread_csv\u001b[1;34m(filepath_or_buffer, sep, delimiter, header, names, index_col, usecols, dtype, engine, converters, true_values, false_values, skipinitialspace, skiprows, skipfooter, nrows, na_values, keep_default_na, na_filter, verbose, skip_blank_lines, parse_dates, infer_datetime_format, keep_date_col, date_parser, date_format, dayfirst, cache_dates, iterator, chunksize, compression, thousands, decimal, lineterminator, quotechar, quoting, doublequote, escapechar, comment, encoding, encoding_errors, dialect, on_bad_lines, delim_whitespace, low_memory, memory_map, float_precision, storage_options, dtype_backend)\u001b[0m\n\u001b[0;32m    899\u001b[0m kwds_defaults \u001b[38;5;241m=\u001b[39m _refine_defaults_read(\n\u001b[0;32m    900\u001b[0m     dialect,\n\u001b[0;32m    901\u001b[0m     delimiter,\n\u001b[1;32m   (...)\u001b[0m\n\u001b[0;32m    908\u001b[0m     dtype_backend\u001b[38;5;241m=\u001b[39mdtype_backend,\n\u001b[0;32m    909\u001b[0m )\n\u001b[0;32m    910\u001b[0m kwds\u001b[38;5;241m.\u001b[39mupdate(kwds_defaults)\n\u001b[1;32m--> 912\u001b[0m \u001b[38;5;28;01mreturn\u001b[39;00m \u001b[43m_read\u001b[49m\u001b[43m(\u001b[49m\u001b[43mfilepath_or_buffer\u001b[49m\u001b[43m,\u001b[49m\u001b[43m \u001b[49m\u001b[43mkwds\u001b[49m\u001b[43m)\u001b[49m\n",
      "File \u001b[1;32m~\\miniconda3\\lib\\site-packages\\pandas\\io\\parsers\\readers.py:577\u001b[0m, in \u001b[0;36m_read\u001b[1;34m(filepath_or_buffer, kwds)\u001b[0m\n\u001b[0;32m    574\u001b[0m _validate_names(kwds\u001b[38;5;241m.\u001b[39mget(\u001b[38;5;124m\"\u001b[39m\u001b[38;5;124mnames\u001b[39m\u001b[38;5;124m\"\u001b[39m, \u001b[38;5;28;01mNone\u001b[39;00m))\n\u001b[0;32m    576\u001b[0m \u001b[38;5;66;03m# Create the parser.\u001b[39;00m\n\u001b[1;32m--> 577\u001b[0m parser \u001b[38;5;241m=\u001b[39m TextFileReader(filepath_or_buffer, \u001b[38;5;241m*\u001b[39m\u001b[38;5;241m*\u001b[39mkwds)\n\u001b[0;32m    579\u001b[0m \u001b[38;5;28;01mif\u001b[39;00m chunksize \u001b[38;5;129;01mor\u001b[39;00m iterator:\n\u001b[0;32m    580\u001b[0m     \u001b[38;5;28;01mreturn\u001b[39;00m parser\n",
      "File \u001b[1;32m~\\miniconda3\\lib\\site-packages\\pandas\\io\\parsers\\readers.py:1407\u001b[0m, in \u001b[0;36mTextFileReader.__init__\u001b[1;34m(self, f, engine, **kwds)\u001b[0m\n\u001b[0;32m   1404\u001b[0m     \u001b[38;5;28mself\u001b[39m\u001b[38;5;241m.\u001b[39moptions[\u001b[38;5;124m\"\u001b[39m\u001b[38;5;124mhas_index_names\u001b[39m\u001b[38;5;124m\"\u001b[39m] \u001b[38;5;241m=\u001b[39m kwds[\u001b[38;5;124m\"\u001b[39m\u001b[38;5;124mhas_index_names\u001b[39m\u001b[38;5;124m\"\u001b[39m]\n\u001b[0;32m   1406\u001b[0m \u001b[38;5;28mself\u001b[39m\u001b[38;5;241m.\u001b[39mhandles: IOHandles \u001b[38;5;241m|\u001b[39m \u001b[38;5;28;01mNone\u001b[39;00m \u001b[38;5;241m=\u001b[39m \u001b[38;5;28;01mNone\u001b[39;00m\n\u001b[1;32m-> 1407\u001b[0m \u001b[38;5;28mself\u001b[39m\u001b[38;5;241m.\u001b[39m_engine \u001b[38;5;241m=\u001b[39m \u001b[38;5;28;43mself\u001b[39;49m\u001b[38;5;241;43m.\u001b[39;49m\u001b[43m_make_engine\u001b[49m\u001b[43m(\u001b[49m\u001b[43mf\u001b[49m\u001b[43m,\u001b[49m\u001b[43m \u001b[49m\u001b[38;5;28;43mself\u001b[39;49m\u001b[38;5;241;43m.\u001b[39;49m\u001b[43mengine\u001b[49m\u001b[43m)\u001b[49m\n",
      "File \u001b[1;32m~\\miniconda3\\lib\\site-packages\\pandas\\io\\parsers\\readers.py:1661\u001b[0m, in \u001b[0;36mTextFileReader._make_engine\u001b[1;34m(self, f, engine)\u001b[0m\n\u001b[0;32m   1659\u001b[0m     \u001b[38;5;28;01mif\u001b[39;00m \u001b[38;5;124m\"\u001b[39m\u001b[38;5;124mb\u001b[39m\u001b[38;5;124m\"\u001b[39m \u001b[38;5;129;01mnot\u001b[39;00m \u001b[38;5;129;01min\u001b[39;00m mode:\n\u001b[0;32m   1660\u001b[0m         mode \u001b[38;5;241m+\u001b[39m\u001b[38;5;241m=\u001b[39m \u001b[38;5;124m\"\u001b[39m\u001b[38;5;124mb\u001b[39m\u001b[38;5;124m\"\u001b[39m\n\u001b[1;32m-> 1661\u001b[0m \u001b[38;5;28mself\u001b[39m\u001b[38;5;241m.\u001b[39mhandles \u001b[38;5;241m=\u001b[39m \u001b[43mget_handle\u001b[49m\u001b[43m(\u001b[49m\n\u001b[0;32m   1662\u001b[0m \u001b[43m    \u001b[49m\u001b[43mf\u001b[49m\u001b[43m,\u001b[49m\n\u001b[0;32m   1663\u001b[0m \u001b[43m    \u001b[49m\u001b[43mmode\u001b[49m\u001b[43m,\u001b[49m\n\u001b[0;32m   1664\u001b[0m \u001b[43m    \u001b[49m\u001b[43mencoding\u001b[49m\u001b[38;5;241;43m=\u001b[39;49m\u001b[38;5;28;43mself\u001b[39;49m\u001b[38;5;241;43m.\u001b[39;49m\u001b[43moptions\u001b[49m\u001b[38;5;241;43m.\u001b[39;49m\u001b[43mget\u001b[49m\u001b[43m(\u001b[49m\u001b[38;5;124;43m\"\u001b[39;49m\u001b[38;5;124;43mencoding\u001b[39;49m\u001b[38;5;124;43m\"\u001b[39;49m\u001b[43m,\u001b[49m\u001b[43m \u001b[49m\u001b[38;5;28;43;01mNone\u001b[39;49;00m\u001b[43m)\u001b[49m\u001b[43m,\u001b[49m\n\u001b[0;32m   1665\u001b[0m \u001b[43m    \u001b[49m\u001b[43mcompression\u001b[49m\u001b[38;5;241;43m=\u001b[39;49m\u001b[38;5;28;43mself\u001b[39;49m\u001b[38;5;241;43m.\u001b[39;49m\u001b[43moptions\u001b[49m\u001b[38;5;241;43m.\u001b[39;49m\u001b[43mget\u001b[49m\u001b[43m(\u001b[49m\u001b[38;5;124;43m\"\u001b[39;49m\u001b[38;5;124;43mcompression\u001b[39;49m\u001b[38;5;124;43m\"\u001b[39;49m\u001b[43m,\u001b[49m\u001b[43m \u001b[49m\u001b[38;5;28;43;01mNone\u001b[39;49;00m\u001b[43m)\u001b[49m\u001b[43m,\u001b[49m\n\u001b[0;32m   1666\u001b[0m \u001b[43m    \u001b[49m\u001b[43mmemory_map\u001b[49m\u001b[38;5;241;43m=\u001b[39;49m\u001b[38;5;28;43mself\u001b[39;49m\u001b[38;5;241;43m.\u001b[39;49m\u001b[43moptions\u001b[49m\u001b[38;5;241;43m.\u001b[39;49m\u001b[43mget\u001b[49m\u001b[43m(\u001b[49m\u001b[38;5;124;43m\"\u001b[39;49m\u001b[38;5;124;43mmemory_map\u001b[39;49m\u001b[38;5;124;43m\"\u001b[39;49m\u001b[43m,\u001b[49m\u001b[43m \u001b[49m\u001b[38;5;28;43;01mFalse\u001b[39;49;00m\u001b[43m)\u001b[49m\u001b[43m,\u001b[49m\n\u001b[0;32m   1667\u001b[0m \u001b[43m    \u001b[49m\u001b[43mis_text\u001b[49m\u001b[38;5;241;43m=\u001b[39;49m\u001b[43mis_text\u001b[49m\u001b[43m,\u001b[49m\n\u001b[0;32m   1668\u001b[0m \u001b[43m    \u001b[49m\u001b[43merrors\u001b[49m\u001b[38;5;241;43m=\u001b[39;49m\u001b[38;5;28;43mself\u001b[39;49m\u001b[38;5;241;43m.\u001b[39;49m\u001b[43moptions\u001b[49m\u001b[38;5;241;43m.\u001b[39;49m\u001b[43mget\u001b[49m\u001b[43m(\u001b[49m\u001b[38;5;124;43m\"\u001b[39;49m\u001b[38;5;124;43mencoding_errors\u001b[39;49m\u001b[38;5;124;43m\"\u001b[39;49m\u001b[43m,\u001b[49m\u001b[43m \u001b[49m\u001b[38;5;124;43m\"\u001b[39;49m\u001b[38;5;124;43mstrict\u001b[39;49m\u001b[38;5;124;43m\"\u001b[39;49m\u001b[43m)\u001b[49m\u001b[43m,\u001b[49m\n\u001b[0;32m   1669\u001b[0m \u001b[43m    \u001b[49m\u001b[43mstorage_options\u001b[49m\u001b[38;5;241;43m=\u001b[39;49m\u001b[38;5;28;43mself\u001b[39;49m\u001b[38;5;241;43m.\u001b[39;49m\u001b[43moptions\u001b[49m\u001b[38;5;241;43m.\u001b[39;49m\u001b[43mget\u001b[49m\u001b[43m(\u001b[49m\u001b[38;5;124;43m\"\u001b[39;49m\u001b[38;5;124;43mstorage_options\u001b[39;49m\u001b[38;5;124;43m\"\u001b[39;49m\u001b[43m,\u001b[49m\u001b[43m \u001b[49m\u001b[38;5;28;43;01mNone\u001b[39;49;00m\u001b[43m)\u001b[49m\u001b[43m,\u001b[49m\n\u001b[0;32m   1670\u001b[0m \u001b[43m\u001b[49m\u001b[43m)\u001b[49m\n\u001b[0;32m   1671\u001b[0m \u001b[38;5;28;01massert\u001b[39;00m \u001b[38;5;28mself\u001b[39m\u001b[38;5;241m.\u001b[39mhandles \u001b[38;5;129;01mis\u001b[39;00m \u001b[38;5;129;01mnot\u001b[39;00m \u001b[38;5;28;01mNone\u001b[39;00m\n\u001b[0;32m   1672\u001b[0m f \u001b[38;5;241m=\u001b[39m \u001b[38;5;28mself\u001b[39m\u001b[38;5;241m.\u001b[39mhandles\u001b[38;5;241m.\u001b[39mhandle\n",
      "File \u001b[1;32m~\\miniconda3\\lib\\site-packages\\pandas\\io\\common.py:859\u001b[0m, in \u001b[0;36mget_handle\u001b[1;34m(path_or_buf, mode, encoding, compression, memory_map, is_text, errors, storage_options)\u001b[0m\n\u001b[0;32m    854\u001b[0m \u001b[38;5;28;01melif\u001b[39;00m \u001b[38;5;28misinstance\u001b[39m(handle, \u001b[38;5;28mstr\u001b[39m):\n\u001b[0;32m    855\u001b[0m     \u001b[38;5;66;03m# Check whether the filename is to be opened in binary mode.\u001b[39;00m\n\u001b[0;32m    856\u001b[0m     \u001b[38;5;66;03m# Binary mode does not support 'encoding' and 'newline'.\u001b[39;00m\n\u001b[0;32m    857\u001b[0m     \u001b[38;5;28;01mif\u001b[39;00m ioargs\u001b[38;5;241m.\u001b[39mencoding \u001b[38;5;129;01mand\u001b[39;00m \u001b[38;5;124m\"\u001b[39m\u001b[38;5;124mb\u001b[39m\u001b[38;5;124m\"\u001b[39m \u001b[38;5;129;01mnot\u001b[39;00m \u001b[38;5;129;01min\u001b[39;00m ioargs\u001b[38;5;241m.\u001b[39mmode:\n\u001b[0;32m    858\u001b[0m         \u001b[38;5;66;03m# Encoding\u001b[39;00m\n\u001b[1;32m--> 859\u001b[0m         handle \u001b[38;5;241m=\u001b[39m \u001b[38;5;28;43mopen\u001b[39;49m\u001b[43m(\u001b[49m\n\u001b[0;32m    860\u001b[0m \u001b[43m            \u001b[49m\u001b[43mhandle\u001b[49m\u001b[43m,\u001b[49m\n\u001b[0;32m    861\u001b[0m \u001b[43m            \u001b[49m\u001b[43mioargs\u001b[49m\u001b[38;5;241;43m.\u001b[39;49m\u001b[43mmode\u001b[49m\u001b[43m,\u001b[49m\n\u001b[0;32m    862\u001b[0m \u001b[43m            \u001b[49m\u001b[43mencoding\u001b[49m\u001b[38;5;241;43m=\u001b[39;49m\u001b[43mioargs\u001b[49m\u001b[38;5;241;43m.\u001b[39;49m\u001b[43mencoding\u001b[49m\u001b[43m,\u001b[49m\n\u001b[0;32m    863\u001b[0m \u001b[43m            \u001b[49m\u001b[43merrors\u001b[49m\u001b[38;5;241;43m=\u001b[39;49m\u001b[43merrors\u001b[49m\u001b[43m,\u001b[49m\n\u001b[0;32m    864\u001b[0m \u001b[43m            \u001b[49m\u001b[43mnewline\u001b[49m\u001b[38;5;241;43m=\u001b[39;49m\u001b[38;5;124;43m\"\u001b[39;49m\u001b[38;5;124;43m\"\u001b[39;49m\u001b[43m,\u001b[49m\n\u001b[0;32m    865\u001b[0m \u001b[43m        \u001b[49m\u001b[43m)\u001b[49m\n\u001b[0;32m    866\u001b[0m     \u001b[38;5;28;01melse\u001b[39;00m:\n\u001b[0;32m    867\u001b[0m         \u001b[38;5;66;03m# Binary mode\u001b[39;00m\n\u001b[0;32m    868\u001b[0m         handle \u001b[38;5;241m=\u001b[39m \u001b[38;5;28mopen\u001b[39m(handle, ioargs\u001b[38;5;241m.\u001b[39mmode)\n",
      "\u001b[1;31mFileNotFoundError\u001b[0m: [Errno 2] No such file or directory: 'benchmark_newton_results_nse1.csv'"
     ]
    }
   ],
   "source": [
    "file_newton_nse1 = \"benchmark_newton_results_nse1.csv\"\n",
    "file_newton_nse2 = \"benchmark_newton_results_nse2.csv\"\n",
    "df_newton_nse1 = pd.read_csv(file_newton_nse1, sep=\",\")\n",
    "df_newton_nse2 = pd.read_csv(file_newton_nse2, sep=\",\")\n",
    "\n",
    "desired_precision = 30\n",
    "\n",
    "def format_float(val):\n",
    "    return f'{val:.{desired_precision}f}'\n",
    "\n",
    "# Setze die Anzeigeoption für Floats\n",
    "pd.options.display.float_format = format_float"
   ]
  },
  {
   "cell_type": "code",
   "execution_count": 16,
   "id": "802830a6",
   "metadata": {},
   "outputs": [
    {
     "ename": "NameError",
     "evalue": "name 'df_newton_nse1' is not defined",
     "output_type": "error",
     "traceback": [
      "\u001b[1;31m---------------------------------------------------------------------------\u001b[0m",
      "\u001b[1;31mNameError\u001b[0m                                 Traceback (most recent call last)",
      "Cell \u001b[1;32mIn[16], line 1\u001b[0m\n\u001b[1;32m----> 1\u001b[0m \u001b[43mdf_newton_nse1\u001b[49m\n",
      "\u001b[1;31mNameError\u001b[0m: name 'df_newton_nse1' is not defined"
     ]
    }
   ],
   "source": [
    "df_newton_nse1"
   ]
  },
  {
   "cell_type": "code",
   "execution_count": null,
   "id": "8b405ee0",
   "metadata": {},
   "outputs": [],
   "source": [
    "df_newton_nse2"
   ]
  },
  {
   "cell_type": "code",
   "execution_count": null,
   "id": "c9e9b3fb",
   "metadata": {},
   "outputs": [],
   "source": []
  }
 ],
 "metadata": {
  "kernelspec": {
   "display_name": "Python 3 (ipykernel)",
   "language": "python",
   "name": "python3"
  },
  "language_info": {
   "codemirror_mode": {
    "name": "ipython",
    "version": 3
   },
   "file_extension": ".py",
   "mimetype": "text/x-python",
   "name": "python",
   "nbconvert_exporter": "python",
   "pygments_lexer": "ipython3",
   "version": "3.10.13"
  }
 },
 "nbformat": 4,
 "nbformat_minor": 5
}
